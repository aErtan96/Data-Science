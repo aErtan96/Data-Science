{
 "cells": [
  {
   "cell_type": "code",
   "execution_count": 1,
   "id": "a7c97600",
   "metadata": {},
   "outputs": [],
   "source": [
    "import pandas as pd\n",
    "import numpy as np\n",
    "import seaborn as sns\n",
    "import matplotlib.pyplot as plt"
   ]
  },
  {
   "cell_type": "code",
   "execution_count": 2,
   "id": "295385c6",
   "metadata": {
    "scrolled": true
   },
   "outputs": [
    {
     "data": {
      "text/html": [
       "<div>\n",
       "<style scoped>\n",
       "    .dataframe tbody tr th:only-of-type {\n",
       "        vertical-align: middle;\n",
       "    }\n",
       "\n",
       "    .dataframe tbody tr th {\n",
       "        vertical-align: top;\n",
       "    }\n",
       "\n",
       "    .dataframe thead th {\n",
       "        text-align: right;\n",
       "    }\n",
       "</style>\n",
       "<table border=\"1\" class=\"dataframe\">\n",
       "  <thead>\n",
       "    <tr style=\"text-align: right;\">\n",
       "      <th></th>\n",
       "      <th>Age</th>\n",
       "      <th>Sex</th>\n",
       "      <th>ChestPainType</th>\n",
       "      <th>RestingBP</th>\n",
       "      <th>Cholesterol</th>\n",
       "      <th>FastingBS</th>\n",
       "      <th>RestingECG</th>\n",
       "      <th>MaxHR</th>\n",
       "      <th>ExerciseAngina</th>\n",
       "      <th>Oldpeak</th>\n",
       "      <th>ST_Slope</th>\n",
       "      <th>HeartDisease</th>\n",
       "    </tr>\n",
       "  </thead>\n",
       "  <tbody>\n",
       "    <tr>\n",
       "      <th>0</th>\n",
       "      <td>40</td>\n",
       "      <td>M</td>\n",
       "      <td>ATA</td>\n",
       "      <td>140</td>\n",
       "      <td>289</td>\n",
       "      <td>0</td>\n",
       "      <td>Normal</td>\n",
       "      <td>172</td>\n",
       "      <td>N</td>\n",
       "      <td>0.0</td>\n",
       "      <td>Up</td>\n",
       "      <td>0</td>\n",
       "    </tr>\n",
       "    <tr>\n",
       "      <th>1</th>\n",
       "      <td>49</td>\n",
       "      <td>F</td>\n",
       "      <td>NAP</td>\n",
       "      <td>160</td>\n",
       "      <td>180</td>\n",
       "      <td>0</td>\n",
       "      <td>Normal</td>\n",
       "      <td>156</td>\n",
       "      <td>N</td>\n",
       "      <td>1.0</td>\n",
       "      <td>Flat</td>\n",
       "      <td>1</td>\n",
       "    </tr>\n",
       "    <tr>\n",
       "      <th>2</th>\n",
       "      <td>37</td>\n",
       "      <td>M</td>\n",
       "      <td>ATA</td>\n",
       "      <td>130</td>\n",
       "      <td>283</td>\n",
       "      <td>0</td>\n",
       "      <td>ST</td>\n",
       "      <td>98</td>\n",
       "      <td>N</td>\n",
       "      <td>0.0</td>\n",
       "      <td>Up</td>\n",
       "      <td>0</td>\n",
       "    </tr>\n",
       "    <tr>\n",
       "      <th>3</th>\n",
       "      <td>48</td>\n",
       "      <td>F</td>\n",
       "      <td>ASY</td>\n",
       "      <td>138</td>\n",
       "      <td>214</td>\n",
       "      <td>0</td>\n",
       "      <td>Normal</td>\n",
       "      <td>108</td>\n",
       "      <td>Y</td>\n",
       "      <td>1.5</td>\n",
       "      <td>Flat</td>\n",
       "      <td>1</td>\n",
       "    </tr>\n",
       "    <tr>\n",
       "      <th>4</th>\n",
       "      <td>54</td>\n",
       "      <td>M</td>\n",
       "      <td>NAP</td>\n",
       "      <td>150</td>\n",
       "      <td>195</td>\n",
       "      <td>0</td>\n",
       "      <td>Normal</td>\n",
       "      <td>122</td>\n",
       "      <td>N</td>\n",
       "      <td>0.0</td>\n",
       "      <td>Up</td>\n",
       "      <td>0</td>\n",
       "    </tr>\n",
       "  </tbody>\n",
       "</table>\n",
       "</div>"
      ],
      "text/plain": [
       "   Age Sex ChestPainType  RestingBP  Cholesterol  FastingBS RestingECG  MaxHR  \\\n",
       "0   40   M           ATA        140          289          0     Normal    172   \n",
       "1   49   F           NAP        160          180          0     Normal    156   \n",
       "2   37   M           ATA        130          283          0         ST     98   \n",
       "3   48   F           ASY        138          214          0     Normal    108   \n",
       "4   54   M           NAP        150          195          0     Normal    122   \n",
       "\n",
       "  ExerciseAngina  Oldpeak ST_Slope  HeartDisease  \n",
       "0              N      0.0       Up             0  \n",
       "1              N      1.0     Flat             1  \n",
       "2              N      0.0       Up             0  \n",
       "3              Y      1.5     Flat             1  \n",
       "4              N      0.0       Up             0  "
      ]
     },
     "execution_count": 2,
     "metadata": {},
     "output_type": "execute_result"
    }
   ],
   "source": [
    "df = pd.read_csv(\"heart.csv\")\n",
    "df.head()"
   ]
  },
  {
   "cell_type": "markdown",
   "id": "5163721b",
   "metadata": {},
   "source": [
    "<h3 style = \"text-align:center\" >Exploratory Data Analysis</h3>"
   ]
  },
  {
   "cell_type": "code",
   "execution_count": 3,
   "id": "ab69f465",
   "metadata": {},
   "outputs": [
    {
     "data": {
      "text/plain": [
       "(918, 12)"
      ]
     },
     "execution_count": 3,
     "metadata": {},
     "output_type": "execute_result"
    }
   ],
   "source": [
    "df.shape"
   ]
  },
  {
   "cell_type": "code",
   "execution_count": 4,
   "id": "7fa0ed3a",
   "metadata": {
    "scrolled": true
   },
   "outputs": [
    {
     "data": {
      "text/plain": [
       "Age               0\n",
       "Sex               0\n",
       "ChestPainType     0\n",
       "RestingBP         0\n",
       "Cholesterol       0\n",
       "FastingBS         0\n",
       "RestingECG        0\n",
       "MaxHR             0\n",
       "ExerciseAngina    0\n",
       "Oldpeak           0\n",
       "ST_Slope          0\n",
       "HeartDisease      0\n",
       "dtype: int64"
      ]
     },
     "execution_count": 4,
     "metadata": {},
     "output_type": "execute_result"
    }
   ],
   "source": [
    "df.isnull().sum()"
   ]
  },
  {
   "cell_type": "code",
   "execution_count": 5,
   "id": "5bde29ca",
   "metadata": {},
   "outputs": [
    {
     "data": {
      "text/html": [
       "<style  type=\"text/css\" >\n",
       "#T_68f45_row0_col0,#T_68f45_row1_col0,#T_68f45_row2_col0,#T_68f45_row3_col0,#T_68f45_row3_col1,#T_68f45_row3_col2,#T_68f45_row3_col4,#T_68f45_row3_col5,#T_68f45_row3_col6,#T_68f45_row3_col7,#T_68f45_row4_col0,#T_68f45_row5_col0,#T_68f45_row5_col1,#T_68f45_row5_col3,#T_68f45_row5_col4,#T_68f45_row5_col5,#T_68f45_row6_col0,#T_68f45_row6_col1,#T_68f45_row6_col2,#T_68f45_row6_col4,#T_68f45_row6_col6,#T_68f45_row6_col7{\n",
       "            background-color:  #f7fcf5;\n",
       "            color:  #000000;\n",
       "        }#T_68f45_row0_col1{\n",
       "            background-color:  #c2e7bb;\n",
       "            color:  #000000;\n",
       "        }#T_68f45_row0_col2{\n",
       "            background-color:  #ebf7e7;\n",
       "            color:  #000000;\n",
       "        }#T_68f45_row0_col3{\n",
       "            background-color:  #78c679;\n",
       "            color:  #000000;\n",
       "        }#T_68f45_row0_col4{\n",
       "            background-color:  #c1e6ba;\n",
       "            color:  #000000;\n",
       "        }#T_68f45_row0_col5{\n",
       "            background-color:  #caeac3;\n",
       "            color:  #000000;\n",
       "        }#T_68f45_row0_col6{\n",
       "            background-color:  #cdecc7;\n",
       "            color:  #000000;\n",
       "        }#T_68f45_row0_col7{\n",
       "            background-color:  #e5f5e0;\n",
       "            color:  #000000;\n",
       "        }#T_68f45_row1_col1{\n",
       "            background-color:  #37a055;\n",
       "            color:  #000000;\n",
       "        }#T_68f45_row1_col2{\n",
       "            background-color:  #dbf1d6;\n",
       "            color:  #000000;\n",
       "        }#T_68f45_row1_col3,#T_68f45_row2_col3,#T_68f45_row3_col3,#T_68f45_row6_col3{\n",
       "            background-color:  #f1faee;\n",
       "            color:  #000000;\n",
       "        }#T_68f45_row1_col4,#T_68f45_row4_col4{\n",
       "            background-color:  #309950;\n",
       "            color:  #000000;\n",
       "        }#T_68f45_row1_col5,#T_68f45_row4_col6{\n",
       "            background-color:  #52b365;\n",
       "            color:  #000000;\n",
       "        }#T_68f45_row1_col6{\n",
       "            background-color:  #6abf71;\n",
       "            color:  #000000;\n",
       "        }#T_68f45_row1_col7{\n",
       "            background-color:  #afdfa8;\n",
       "            color:  #000000;\n",
       "        }#T_68f45_row2_col1,#T_68f45_row2_col2,#T_68f45_row2_col4,#T_68f45_row2_col5,#T_68f45_row2_col6,#T_68f45_row2_col7,#T_68f45_row4_col3{\n",
       "            background-color:  #00441b;\n",
       "            color:  #f1f1f1;\n",
       "        }#T_68f45_row4_col1{\n",
       "            background-color:  #319a50;\n",
       "            color:  #000000;\n",
       "        }#T_68f45_row4_col2{\n",
       "            background-color:  #ccebc6;\n",
       "            color:  #000000;\n",
       "        }#T_68f45_row4_col5{\n",
       "            background-color:  #43ac5e;\n",
       "            color:  #000000;\n",
       "        }#T_68f45_row4_col7{\n",
       "            background-color:  #aedea7;\n",
       "            color:  #000000;\n",
       "        }#T_68f45_row5_col2,#T_68f45_row5_col6,#T_68f45_row5_col7,#T_68f45_row6_col5{\n",
       "            background-color:  #f6fcf4;\n",
       "            color:  #000000;\n",
       "        }</style><table id=\"T_68f45_\" ><thead>    <tr>        <th class=\"blank level0\" ></th>        <th class=\"col_heading level0 col0\" >count</th>        <th class=\"col_heading level0 col1\" >mean</th>        <th class=\"col_heading level0 col2\" >std</th>        <th class=\"col_heading level0 col3\" >min</th>        <th class=\"col_heading level0 col4\" >25%</th>        <th class=\"col_heading level0 col5\" >50%</th>        <th class=\"col_heading level0 col6\" >75%</th>        <th class=\"col_heading level0 col7\" >max</th>    </tr></thead><tbody>\n",
       "                <tr>\n",
       "                        <th id=\"T_68f45_level0_row0\" class=\"row_heading level0 row0\" >Age</th>\n",
       "                        <td id=\"T_68f45_row0_col0\" class=\"data row0 col0\" >918.000000</td>\n",
       "                        <td id=\"T_68f45_row0_col1\" class=\"data row0 col1\" >53.510893</td>\n",
       "                        <td id=\"T_68f45_row0_col2\" class=\"data row0 col2\" >9.432617</td>\n",
       "                        <td id=\"T_68f45_row0_col3\" class=\"data row0 col3\" >28.000000</td>\n",
       "                        <td id=\"T_68f45_row0_col4\" class=\"data row0 col4\" >47.000000</td>\n",
       "                        <td id=\"T_68f45_row0_col5\" class=\"data row0 col5\" >54.000000</td>\n",
       "                        <td id=\"T_68f45_row0_col6\" class=\"data row0 col6\" >60.000000</td>\n",
       "                        <td id=\"T_68f45_row0_col7\" class=\"data row0 col7\" >77.000000</td>\n",
       "            </tr>\n",
       "            <tr>\n",
       "                        <th id=\"T_68f45_level0_row1\" class=\"row_heading level0 row1\" >RestingBP</th>\n",
       "                        <td id=\"T_68f45_row1_col0\" class=\"data row1 col0\" >918.000000</td>\n",
       "                        <td id=\"T_68f45_row1_col1\" class=\"data row1 col1\" >132.396514</td>\n",
       "                        <td id=\"T_68f45_row1_col2\" class=\"data row1 col2\" >18.514154</td>\n",
       "                        <td id=\"T_68f45_row1_col3\" class=\"data row1 col3\" >0.000000</td>\n",
       "                        <td id=\"T_68f45_row1_col4\" class=\"data row1 col4\" >120.000000</td>\n",
       "                        <td id=\"T_68f45_row1_col5\" class=\"data row1 col5\" >130.000000</td>\n",
       "                        <td id=\"T_68f45_row1_col6\" class=\"data row1 col6\" >140.000000</td>\n",
       "                        <td id=\"T_68f45_row1_col7\" class=\"data row1 col7\" >200.000000</td>\n",
       "            </tr>\n",
       "            <tr>\n",
       "                        <th id=\"T_68f45_level0_row2\" class=\"row_heading level0 row2\" >Cholesterol</th>\n",
       "                        <td id=\"T_68f45_row2_col0\" class=\"data row2 col0\" >918.000000</td>\n",
       "                        <td id=\"T_68f45_row2_col1\" class=\"data row2 col1\" >198.799564</td>\n",
       "                        <td id=\"T_68f45_row2_col2\" class=\"data row2 col2\" >109.384145</td>\n",
       "                        <td id=\"T_68f45_row2_col3\" class=\"data row2 col3\" >0.000000</td>\n",
       "                        <td id=\"T_68f45_row2_col4\" class=\"data row2 col4\" >173.250000</td>\n",
       "                        <td id=\"T_68f45_row2_col5\" class=\"data row2 col5\" >223.000000</td>\n",
       "                        <td id=\"T_68f45_row2_col6\" class=\"data row2 col6\" >267.000000</td>\n",
       "                        <td id=\"T_68f45_row2_col7\" class=\"data row2 col7\" >603.000000</td>\n",
       "            </tr>\n",
       "            <tr>\n",
       "                        <th id=\"T_68f45_level0_row3\" class=\"row_heading level0 row3\" >FastingBS</th>\n",
       "                        <td id=\"T_68f45_row3_col0\" class=\"data row3 col0\" >918.000000</td>\n",
       "                        <td id=\"T_68f45_row3_col1\" class=\"data row3 col1\" >0.233115</td>\n",
       "                        <td id=\"T_68f45_row3_col2\" class=\"data row3 col2\" >0.423046</td>\n",
       "                        <td id=\"T_68f45_row3_col3\" class=\"data row3 col3\" >0.000000</td>\n",
       "                        <td id=\"T_68f45_row3_col4\" class=\"data row3 col4\" >0.000000</td>\n",
       "                        <td id=\"T_68f45_row3_col5\" class=\"data row3 col5\" >0.000000</td>\n",
       "                        <td id=\"T_68f45_row3_col6\" class=\"data row3 col6\" >0.000000</td>\n",
       "                        <td id=\"T_68f45_row3_col7\" class=\"data row3 col7\" >1.000000</td>\n",
       "            </tr>\n",
       "            <tr>\n",
       "                        <th id=\"T_68f45_level0_row4\" class=\"row_heading level0 row4\" >MaxHR</th>\n",
       "                        <td id=\"T_68f45_row4_col0\" class=\"data row4 col0\" >918.000000</td>\n",
       "                        <td id=\"T_68f45_row4_col1\" class=\"data row4 col1\" >136.809368</td>\n",
       "                        <td id=\"T_68f45_row4_col2\" class=\"data row4 col2\" >25.460334</td>\n",
       "                        <td id=\"T_68f45_row4_col3\" class=\"data row4 col3\" >60.000000</td>\n",
       "                        <td id=\"T_68f45_row4_col4\" class=\"data row4 col4\" >120.000000</td>\n",
       "                        <td id=\"T_68f45_row4_col5\" class=\"data row4 col5\" >138.000000</td>\n",
       "                        <td id=\"T_68f45_row4_col6\" class=\"data row4 col6\" >156.000000</td>\n",
       "                        <td id=\"T_68f45_row4_col7\" class=\"data row4 col7\" >202.000000</td>\n",
       "            </tr>\n",
       "            <tr>\n",
       "                        <th id=\"T_68f45_level0_row5\" class=\"row_heading level0 row5\" >Oldpeak</th>\n",
       "                        <td id=\"T_68f45_row5_col0\" class=\"data row5 col0\" >918.000000</td>\n",
       "                        <td id=\"T_68f45_row5_col1\" class=\"data row5 col1\" >0.887364</td>\n",
       "                        <td id=\"T_68f45_row5_col2\" class=\"data row5 col2\" >1.066570</td>\n",
       "                        <td id=\"T_68f45_row5_col3\" class=\"data row5 col3\" >-2.600000</td>\n",
       "                        <td id=\"T_68f45_row5_col4\" class=\"data row5 col4\" >0.000000</td>\n",
       "                        <td id=\"T_68f45_row5_col5\" class=\"data row5 col5\" >0.600000</td>\n",
       "                        <td id=\"T_68f45_row5_col6\" class=\"data row5 col6\" >1.500000</td>\n",
       "                        <td id=\"T_68f45_row5_col7\" class=\"data row5 col7\" >6.200000</td>\n",
       "            </tr>\n",
       "            <tr>\n",
       "                        <th id=\"T_68f45_level0_row6\" class=\"row_heading level0 row6\" >HeartDisease</th>\n",
       "                        <td id=\"T_68f45_row6_col0\" class=\"data row6 col0\" >918.000000</td>\n",
       "                        <td id=\"T_68f45_row6_col1\" class=\"data row6 col1\" >0.553377</td>\n",
       "                        <td id=\"T_68f45_row6_col2\" class=\"data row6 col2\" >0.497414</td>\n",
       "                        <td id=\"T_68f45_row6_col3\" class=\"data row6 col3\" >0.000000</td>\n",
       "                        <td id=\"T_68f45_row6_col4\" class=\"data row6 col4\" >0.000000</td>\n",
       "                        <td id=\"T_68f45_row6_col5\" class=\"data row6 col5\" >1.000000</td>\n",
       "                        <td id=\"T_68f45_row6_col6\" class=\"data row6 col6\" >1.000000</td>\n",
       "                        <td id=\"T_68f45_row6_col7\" class=\"data row6 col7\" >1.000000</td>\n",
       "            </tr>\n",
       "    </tbody></table>"
      ],
      "text/plain": [
       "<pandas.io.formats.style.Styler at 0x13c9c062880>"
      ]
     },
     "execution_count": 5,
     "metadata": {},
     "output_type": "execute_result"
    }
   ],
   "source": [
    "df.describe().T.style.background_gradient(cmap='Greens')"
   ]
  },
  {
   "cell_type": "markdown",
   "id": "6770af7b",
   "metadata": {},
   "source": [
    "Checking unique values in columns"
   ]
  },
  {
   "cell_type": "code",
   "execution_count": 6,
   "id": "a1562002",
   "metadata": {},
   "outputs": [
    {
     "data": {
      "text/plain": [
       "array(['ATA', 'NAP', 'ASY', 'TA'], dtype=object)"
      ]
     },
     "execution_count": 6,
     "metadata": {},
     "output_type": "execute_result"
    }
   ],
   "source": [
    "df.ChestPainType.unique()"
   ]
  },
  {
   "cell_type": "code",
   "execution_count": 7,
   "id": "19bffb8a",
   "metadata": {},
   "outputs": [
    {
     "data": {
      "text/plain": [
       "0    704\n",
       "1    214\n",
       "Name: FastingBS, dtype: int64"
      ]
     },
     "execution_count": 7,
     "metadata": {},
     "output_type": "execute_result"
    }
   ],
   "source": [
    "df.FastingBS.value_counts()"
   ]
  },
  {
   "cell_type": "code",
   "execution_count": 8,
   "id": "e9063e8b",
   "metadata": {},
   "outputs": [
    {
     "data": {
      "text/plain": [
       "array(['Normal', 'ST', 'LVH'], dtype=object)"
      ]
     },
     "execution_count": 8,
     "metadata": {},
     "output_type": "execute_result"
    }
   ],
   "source": [
    "df.RestingECG.unique()"
   ]
  },
  {
   "cell_type": "code",
   "execution_count": 9,
   "id": "86efbc9c",
   "metadata": {},
   "outputs": [
    {
     "data": {
      "text/plain": [
       "array(['Up', 'Flat', 'Down'], dtype=object)"
      ]
     },
     "execution_count": 9,
     "metadata": {},
     "output_type": "execute_result"
    }
   ],
   "source": [
    "df.ST_Slope.unique()"
   ]
  },
  {
   "cell_type": "markdown",
   "id": "5ac4773d",
   "metadata": {},
   "source": [
    "<b>We have both categorical and numerical data. Now we will separate them to explore our data better</b>"
   ]
  },
  {
   "cell_type": "code",
   "execution_count": 10,
   "id": "cfce30c9",
   "metadata": {},
   "outputs": [],
   "source": [
    "categorical = ['Sex', 'ChestPainType', 'RestingECG', 'ExerciseAngina', 'ST_Slope']\n",
    "numerical = ['Age', 'RestingBP', 'Cholesterol', 'MaxHR', 'Oldpeak']"
   ]
  },
  {
   "cell_type": "markdown",
   "id": "260dd3f4",
   "metadata": {},
   "source": [
    "<b>Visualisation of categorical variables</b>"
   ]
  },
  {
   "cell_type": "code",
   "execution_count": 11,
   "id": "c71c3cfa",
   "metadata": {},
   "outputs": [
    {
     "data": {
      "image/png": "[encoded data removed]",
      "text/plain": [
       "<Figure size 1152x1152 with 5 Axes>"
      ]
     },
     "metadata": {
      "needs_background": "light"
     },
     "output_type": "display_data"
    }
   ],
   "source": [
    "i = 1\n",
    "plt.figure(figsize=(16,16)) \n",
    "for variable in categorical[::]:\n",
    "    plt.subplot(3, 2, i)\n",
    "    sns.countplot(x=df[variable], hue=df.HeartDisease)\n",
    "    i += 1\n",
    "    \n",
    "plt.show()"
   ]
  },
  {
   "cell_type": "markdown",
   "id": "a8133b8a",
   "metadata": {},
   "source": [
    "Data suggest that males tend to have more heart disease problems compared to females. If chest pain type is asymptomatic, heart disease is more frequent. Exercise induced angina creates more heart diseases. Flat ST_Slope has more heart disease while Up ST_Slope has less heart disease."
   ]
  },
  {
   "cell_type": "markdown",
   "id": "a5cc8aa9",
   "metadata": {},
   "source": [
    "<b>Visualisation of numerical variables</b>"
   ]
  },
  {
   "cell_type": "code",
   "execution_count": 12,
   "id": "4dd94283",
   "metadata": {},
   "outputs": [
    {
     "data": {
      "image/png": "[encoded data removed]",
      "text/plain": [
       "<Figure size 1152x1152 with 5 Axes>"
      ]
     },
     "metadata": {
      "needs_background": "light"
     },
     "output_type": "display_data"
    }
   ],
   "source": [
    "i = 1\n",
    "plt.figure(figsize=(16,16)) \n",
    "for variable in numerical:\n",
    "    plt.subplot(3, 2, i)\n",
    "    sns.histplot(x=df[variable],kde=True,bins=50, hue=df.HeartDisease)\n",
    "    plt.xlabel(variable,size=12)\n",
    "    plt.ylabel(\"Density\",size=12)\n",
    "    i += 1\n",
    "    \n",
    "plt.show()"
   ]
  },
  {
   "cell_type": "markdown",
   "id": "7290774a",
   "metadata": {},
   "source": [
    "Older people have more heart diseases. Maximum heart rate lower than 140 means more risk for heart diseases. Higher oldpeak is more likely to have heart diseases."
   ]
  },
  {
   "cell_type": "markdown",
   "id": "5139ca24",
   "metadata": {},
   "source": [
    "<b>Using heatmap to find possible correlations</b>"
   ]
  },
  {
   "cell_type": "code",
   "execution_count": 13,
   "id": "1ebdf3a2",
   "metadata": {},
   "outputs": [
    {
     "data": {
      "image/png": "[encoded data removed]",
      "text/plain": [
       "<Figure size 1152x576 with 2 Axes>"
      ]
     },
     "metadata": {
      "needs_background": "light"
     },
     "output_type": "display_data"
    }
   ],
   "source": [
    "plt.figure(figsize=(16,8))\n",
    "sns.heatmap(df.corr(), mask=np.triu(df.corr()), annot=True)\n",
    "plt.show()"
   ]
  },
  {
   "cell_type": "markdown",
   "id": "f4800b50",
   "metadata": {},
   "source": [
    "Heatmap suggests that heart disease has a positive correlation with Oldpeak while it has a negative correlation with MaxHR."
   ]
  },
  {
   "cell_type": "markdown",
   "id": "5c2df756",
   "metadata": {},
   "source": [
    "<h3 style = \"text-align:center\" >Data Preprocessing</h3>"
   ]
  },
  {
   "cell_type": "markdown",
   "id": "a825762c",
   "metadata": {},
   "source": [
    "<b>Replacing strings with numeric values</b>"
   ]
  },
  {
   "cell_type": "code",
   "execution_count": 14,
   "id": "275fd28f",
   "metadata": {},
   "outputs": [],
   "source": [
    "df['Sex'].replace(\n",
    "    {\n",
    "        'M':1,\n",
    "        'F':0\n",
    "    }, inplace =True\n",
    ")\n",
    "\n",
    "df.ChestPainType.replace(\n",
    "    {\n",
    "        'ATA':0,\n",
    "        'NAP':1,\n",
    "        'ASY':2,\n",
    "        'TA':3\n",
    "    },inplace = True\n",
    ")\n",
    "\n",
    "df.RestingECG.replace(\n",
    "    {\n",
    "        'Normal':0,\n",
    "        'ST':1,\n",
    "        'LVH':2\n",
    "    },inplace=True\n",
    ")\n",
    "\n",
    "df.ST_Slope.replace(\n",
    "    {\n",
    "        'Up':0,\n",
    "        'Flat':1,\n",
    "        'Down':2\n",
    "    },inplace=True\n",
    ")"
   ]
  },
  {
   "cell_type": "code",
   "execution_count": 15,
   "id": "01b26bb5",
   "metadata": {},
   "outputs": [],
   "source": [
    "df.ExerciseAngina.replace(\n",
    "    {\n",
    "        'N':0,\n",
    "        'Y':1\n",
    "    },inplace=True\n",
    ")"
   ]
  },
  {
   "cell_type": "code",
   "execution_count": 16,
   "id": "e8fd9a70",
   "metadata": {},
   "outputs": [
    {
     "data": {
      "text/html": [
       "<div>\n",
       "<style scoped>\n",
       "    .dataframe tbody tr th:only-of-type {\n",
       "        vertical-align: middle;\n",
       "    }\n",
       "\n",
       "    .dataframe tbody tr th {\n",
       "        vertical-align: top;\n",
       "    }\n",
       "\n",
       "    .dataframe thead th {\n",
       "        text-align: right;\n",
       "    }\n",
       "</style>\n",
       "<table border=\"1\" class=\"dataframe\">\n",
       "  <thead>\n",
       "    <tr style=\"text-align: right;\">\n",
       "      <th></th>\n",
       "      <th>Age</th>\n",
       "      <th>Sex</th>\n",
       "      <th>ChestPainType</th>\n",
       "      <th>RestingBP</th>\n",
       "      <th>Cholesterol</th>\n",
       "      <th>FastingBS</th>\n",
       "      <th>RestingECG</th>\n",
       "      <th>MaxHR</th>\n",
       "      <th>ExerciseAngina</th>\n",
       "      <th>Oldpeak</th>\n",
       "      <th>ST_Slope</th>\n",
       "      <th>HeartDisease</th>\n",
       "    </tr>\n",
       "  </thead>\n",
       "  <tbody>\n",
       "    <tr>\n",
       "      <th>0</th>\n",
       "      <td>40</td>\n",
       "      <td>1</td>\n",
       "      <td>0</td>\n",
       "      <td>140</td>\n",
       "      <td>289</td>\n",
       "      <td>0</td>\n",
       "      <td>0</td>\n",
       "      <td>172</td>\n",
       "      <td>0</td>\n",
       "      <td>0.0</td>\n",
       "      <td>0</td>\n",
       "      <td>0</td>\n",
       "    </tr>\n",
       "    <tr>\n",
       "      <th>1</th>\n",
       "      <td>49</td>\n",
       "      <td>0</td>\n",
       "      <td>1</td>\n",
       "      <td>160</td>\n",
       "      <td>180</td>\n",
       "      <td>0</td>\n",
       "      <td>0</td>\n",
       "      <td>156</td>\n",
       "      <td>0</td>\n",
       "      <td>1.0</td>\n",
       "      <td>1</td>\n",
       "      <td>1</td>\n",
       "    </tr>\n",
       "    <tr>\n",
       "      <th>2</th>\n",
       "      <td>37</td>\n",
       "      <td>1</td>\n",
       "      <td>0</td>\n",
       "      <td>130</td>\n",
       "      <td>283</td>\n",
       "      <td>0</td>\n",
       "      <td>1</td>\n",
       "      <td>98</td>\n",
       "      <td>0</td>\n",
       "      <td>0.0</td>\n",
       "      <td>0</td>\n",
       "      <td>0</td>\n",
       "    </tr>\n",
       "    <tr>\n",
       "      <th>3</th>\n",
       "      <td>48</td>\n",
       "      <td>0</td>\n",
       "      <td>2</td>\n",
       "      <td>138</td>\n",
       "      <td>214</td>\n",
       "      <td>0</td>\n",
       "      <td>0</td>\n",
       "      <td>108</td>\n",
       "      <td>1</td>\n",
       "      <td>1.5</td>\n",
       "      <td>1</td>\n",
       "      <td>1</td>\n",
       "    </tr>\n",
       "    <tr>\n",
       "      <th>4</th>\n",
       "      <td>54</td>\n",
       "      <td>1</td>\n",
       "      <td>1</td>\n",
       "      <td>150</td>\n",
       "      <td>195</td>\n",
       "      <td>0</td>\n",
       "      <td>0</td>\n",
       "      <td>122</td>\n",
       "      <td>0</td>\n",
       "      <td>0.0</td>\n",
       "      <td>0</td>\n",
       "      <td>0</td>\n",
       "    </tr>\n",
       "  </tbody>\n",
       "</table>\n",
       "</div>"
      ],
      "text/plain": [
       "   Age  Sex  ChestPainType  RestingBP  Cholesterol  FastingBS  RestingECG  \\\n",
       "0   40    1              0        140          289          0           0   \n",
       "1   49    0              1        160          180          0           0   \n",
       "2   37    1              0        130          283          0           1   \n",
       "3   48    0              2        138          214          0           0   \n",
       "4   54    1              1        150          195          0           0   \n",
       "\n",
       "   MaxHR  ExerciseAngina  Oldpeak  ST_Slope  HeartDisease  \n",
       "0    172               0      0.0         0             0  \n",
       "1    156               0      1.0         1             1  \n",
       "2     98               0      0.0         0             0  \n",
       "3    108               1      1.5         1             1  \n",
       "4    122               0      0.0         0             0  "
      ]
     },
     "execution_count": 16,
     "metadata": {},
     "output_type": "execute_result"
    }
   ],
   "source": [
    "df.head()"
   ]
  },
  {
   "cell_type": "markdown",
   "id": "20a9502c",
   "metadata": {},
   "source": [
    "<b>Outlier detection and removal for RestingBP, Cholesterol and MaxHR columns using 3 standard deviation</b>"
   ]
  },
  {
   "cell_type": "code",
   "execution_count": 17,
   "id": "ee58ef7e",
   "metadata": {},
   "outputs": [
    {
     "data": {
      "text/plain": [
       "(76.85405180149661, 187.93897652094347)"
      ]
     },
     "execution_count": 17,
     "metadata": {},
     "output_type": "execute_result"
    }
   ],
   "source": [
    "RestingBP_Upper_Limit = df.RestingBP.mean() + 3*df.RestingBP.std()\n",
    "RestingBP_Lower_Limit = df.RestingBP.mean() - 3*df.RestingBP.std()\n",
    "RestingBP_Lower_Limit,RestingBP_Upper_Limit"
   ]
  },
  {
   "cell_type": "code",
   "execution_count": 18,
   "id": "2d52e158",
   "metadata": {},
   "outputs": [
    {
     "data": {
      "text/plain": [
       "(-129.35286938645763, 526.9519979267626)"
      ]
     },
     "execution_count": 18,
     "metadata": {},
     "output_type": "execute_result"
    }
   ],
   "source": [
    "Cholesterol_Upper_Limit = df.Cholesterol.mean() + 3*df.Cholesterol.std()\n",
    "Cholesterol_Lower_Limit = df.Cholesterol.mean() - 3*df.Cholesterol.std()\n",
    "Cholesterol_Lower_Limit,Cholesterol_Upper_Limit"
   ]
  },
  {
   "cell_type": "code",
   "execution_count": 19,
   "id": "fbade904",
   "metadata": {},
   "outputs": [
    {
     "data": {
      "text/plain": [
       "(60.42836577697024, 213.19037060647202)"
      ]
     },
     "execution_count": 19,
     "metadata": {},
     "output_type": "execute_result"
    }
   ],
   "source": [
    "MaxHR_Upper_Limit = df.MaxHR.mean() + 3*df.MaxHR.std()\n",
    "MaxHR_Lower_Limit = df.MaxHR.mean() - 3*df.MaxHR.std()\n",
    "MaxHR_Lower_Limit,MaxHR_Upper_Limit"
   ]
  },
  {
   "cell_type": "code",
   "execution_count": 20,
   "id": "a8715bb0",
   "metadata": {},
   "outputs": [
    {
     "data": {
      "text/plain": [
       "(918, 12)"
      ]
     },
     "execution_count": 20,
     "metadata": {},
     "output_type": "execute_result"
    }
   ],
   "source": [
    "df.shape"
   ]
  },
  {
   "cell_type": "code",
   "execution_count": 21,
   "id": "465f4655",
   "metadata": {},
   "outputs": [
    {
     "data": {
      "text/plain": [
       "(910, 12)"
      ]
     },
     "execution_count": 21,
     "metadata": {},
     "output_type": "execute_result"
    }
   ],
   "source": [
    "df=df[(df.RestingBP > RestingBP_Lower_Limit)& (df.RestingBP<RestingBP_Upper_Limit)]\n",
    "df.shape"
   ]
  },
  {
   "cell_type": "code",
   "execution_count": 22,
   "id": "a643f19f",
   "metadata": {},
   "outputs": [
    {
     "data": {
      "text/plain": [
       "(907, 12)"
      ]
     },
     "execution_count": 22,
     "metadata": {},
     "output_type": "execute_result"
    }
   ],
   "source": [
    "df=df[(df.Cholesterol>Cholesterol_Lower_Limit)&(df.Cholesterol<Cholesterol_Upper_Limit)]\n",
    "df.shape"
   ]
  },
  {
   "cell_type": "code",
   "execution_count": 23,
   "id": "5d87a2e9",
   "metadata": {},
   "outputs": [
    {
     "data": {
      "text/plain": [
       "(906, 12)"
      ]
     },
     "execution_count": 23,
     "metadata": {},
     "output_type": "execute_result"
    }
   ],
   "source": [
    "df=df[(df.MaxHR>MaxHR_Lower_Limit)&(df.MaxHR<MaxHR_Upper_Limit)]\n",
    "df.shape"
   ]
  },
  {
   "cell_type": "code",
   "execution_count": 24,
   "id": "c29a6bd6",
   "metadata": {},
   "outputs": [
    {
     "data": {
      "text/html": [
       "<div>\n",
       "<style scoped>\n",
       "    .dataframe tbody tr th:only-of-type {\n",
       "        vertical-align: middle;\n",
       "    }\n",
       "\n",
       "    .dataframe tbody tr th {\n",
       "        vertical-align: top;\n",
       "    }\n",
       "\n",
       "    .dataframe thead th {\n",
       "        text-align: right;\n",
       "    }\n",
       "</style>\n",
       "<table border=\"1\" class=\"dataframe\">\n",
       "  <thead>\n",
       "    <tr style=\"text-align: right;\">\n",
       "      <th></th>\n",
       "      <th>Age</th>\n",
       "      <th>Sex</th>\n",
       "      <th>ChestPainType</th>\n",
       "      <th>RestingBP</th>\n",
       "      <th>Cholesterol</th>\n",
       "      <th>FastingBS</th>\n",
       "      <th>RestingECG</th>\n",
       "      <th>MaxHR</th>\n",
       "      <th>ExerciseAngina</th>\n",
       "      <th>Oldpeak</th>\n",
       "      <th>ST_Slope</th>\n",
       "      <th>HeartDisease</th>\n",
       "    </tr>\n",
       "  </thead>\n",
       "  <tbody>\n",
       "    <tr>\n",
       "      <th>0</th>\n",
       "      <td>40</td>\n",
       "      <td>1</td>\n",
       "      <td>0</td>\n",
       "      <td>140</td>\n",
       "      <td>289</td>\n",
       "      <td>0</td>\n",
       "      <td>0</td>\n",
       "      <td>172</td>\n",
       "      <td>0</td>\n",
       "      <td>0.0</td>\n",
       "      <td>0</td>\n",
       "      <td>0</td>\n",
       "    </tr>\n",
       "    <tr>\n",
       "      <th>1</th>\n",
       "      <td>49</td>\n",
       "      <td>0</td>\n",
       "      <td>1</td>\n",
       "      <td>160</td>\n",
       "      <td>180</td>\n",
       "      <td>0</td>\n",
       "      <td>0</td>\n",
       "      <td>156</td>\n",
       "      <td>0</td>\n",
       "      <td>1.0</td>\n",
       "      <td>1</td>\n",
       "      <td>1</td>\n",
       "    </tr>\n",
       "    <tr>\n",
       "      <th>2</th>\n",
       "      <td>37</td>\n",
       "      <td>1</td>\n",
       "      <td>0</td>\n",
       "      <td>130</td>\n",
       "      <td>283</td>\n",
       "      <td>0</td>\n",
       "      <td>1</td>\n",
       "      <td>98</td>\n",
       "      <td>0</td>\n",
       "      <td>0.0</td>\n",
       "      <td>0</td>\n",
       "      <td>0</td>\n",
       "    </tr>\n",
       "    <tr>\n",
       "      <th>3</th>\n",
       "      <td>48</td>\n",
       "      <td>0</td>\n",
       "      <td>2</td>\n",
       "      <td>138</td>\n",
       "      <td>214</td>\n",
       "      <td>0</td>\n",
       "      <td>0</td>\n",
       "      <td>108</td>\n",
       "      <td>1</td>\n",
       "      <td>1.5</td>\n",
       "      <td>1</td>\n",
       "      <td>1</td>\n",
       "    </tr>\n",
       "    <tr>\n",
       "      <th>4</th>\n",
       "      <td>54</td>\n",
       "      <td>1</td>\n",
       "      <td>1</td>\n",
       "      <td>150</td>\n",
       "      <td>195</td>\n",
       "      <td>0</td>\n",
       "      <td>0</td>\n",
       "      <td>122</td>\n",
       "      <td>0</td>\n",
       "      <td>0.0</td>\n",
       "      <td>0</td>\n",
       "      <td>0</td>\n",
       "    </tr>\n",
       "  </tbody>\n",
       "</table>\n",
       "</div>"
      ],
      "text/plain": [
       "   Age  Sex  ChestPainType  RestingBP  Cholesterol  FastingBS  RestingECG  \\\n",
       "0   40    1              0        140          289          0           0   \n",
       "1   49    0              1        160          180          0           0   \n",
       "2   37    1              0        130          283          0           1   \n",
       "3   48    0              2        138          214          0           0   \n",
       "4   54    1              1        150          195          0           0   \n",
       "\n",
       "   MaxHR  ExerciseAngina  Oldpeak  ST_Slope  HeartDisease  \n",
       "0    172               0      0.0         0             0  \n",
       "1    156               0      1.0         1             1  \n",
       "2     98               0      0.0         0             0  \n",
       "3    108               1      1.5         1             1  \n",
       "4    122               0      0.0         0             0  "
      ]
     },
     "execution_count": 24,
     "metadata": {},
     "output_type": "execute_result"
    }
   ],
   "source": [
    "df.head()"
   ]
  },
  {
   "cell_type": "markdown",
   "id": "02790583",
   "metadata": {},
   "source": [
    "<b>Creating inputs and output </b>"
   ]
  },
  {
   "cell_type": "code",
   "execution_count": 25,
   "id": "ed18ee0f",
   "metadata": {},
   "outputs": [
    {
     "data": {
      "text/html": [
       "<div>\n",
       "<style scoped>\n",
       "    .dataframe tbody tr th:only-of-type {\n",
       "        vertical-align: middle;\n",
       "    }\n",
       "\n",
       "    .dataframe tbody tr th {\n",
       "        vertical-align: top;\n",
       "    }\n",
       "\n",
       "    .dataframe thead th {\n",
       "        text-align: right;\n",
       "    }\n",
       "</style>\n",
       "<table border=\"1\" class=\"dataframe\">\n",
       "  <thead>\n",
       "    <tr style=\"text-align: right;\">\n",
       "      <th></th>\n",
       "      <th>Age</th>\n",
       "      <th>Sex</th>\n",
       "      <th>ChestPainType</th>\n",
       "      <th>RestingBP</th>\n",
       "      <th>Cholesterol</th>\n",
       "      <th>FastingBS</th>\n",
       "      <th>RestingECG</th>\n",
       "      <th>MaxHR</th>\n",
       "      <th>ExerciseAngina</th>\n",
       "      <th>Oldpeak</th>\n",
       "      <th>ST_Slope</th>\n",
       "    </tr>\n",
       "  </thead>\n",
       "  <tbody>\n",
       "    <tr>\n",
       "      <th>0</th>\n",
       "      <td>40</td>\n",
       "      <td>1</td>\n",
       "      <td>0</td>\n",
       "      <td>140</td>\n",
       "      <td>289</td>\n",
       "      <td>0</td>\n",
       "      <td>0</td>\n",
       "      <td>172</td>\n",
       "      <td>0</td>\n",
       "      <td>0.0</td>\n",
       "      <td>0</td>\n",
       "    </tr>\n",
       "    <tr>\n",
       "      <th>1</th>\n",
       "      <td>49</td>\n",
       "      <td>0</td>\n",
       "      <td>1</td>\n",
       "      <td>160</td>\n",
       "      <td>180</td>\n",
       "      <td>0</td>\n",
       "      <td>0</td>\n",
       "      <td>156</td>\n",
       "      <td>0</td>\n",
       "      <td>1.0</td>\n",
       "      <td>1</td>\n",
       "    </tr>\n",
       "    <tr>\n",
       "      <th>2</th>\n",
       "      <td>37</td>\n",
       "      <td>1</td>\n",
       "      <td>0</td>\n",
       "      <td>130</td>\n",
       "      <td>283</td>\n",
       "      <td>0</td>\n",
       "      <td>1</td>\n",
       "      <td>98</td>\n",
       "      <td>0</td>\n",
       "      <td>0.0</td>\n",
       "      <td>0</td>\n",
       "    </tr>\n",
       "    <tr>\n",
       "      <th>3</th>\n",
       "      <td>48</td>\n",
       "      <td>0</td>\n",
       "      <td>2</td>\n",
       "      <td>138</td>\n",
       "      <td>214</td>\n",
       "      <td>0</td>\n",
       "      <td>0</td>\n",
       "      <td>108</td>\n",
       "      <td>1</td>\n",
       "      <td>1.5</td>\n",
       "      <td>1</td>\n",
       "    </tr>\n",
       "    <tr>\n",
       "      <th>4</th>\n",
       "      <td>54</td>\n",
       "      <td>1</td>\n",
       "      <td>1</td>\n",
       "      <td>150</td>\n",
       "      <td>195</td>\n",
       "      <td>0</td>\n",
       "      <td>0</td>\n",
       "      <td>122</td>\n",
       "      <td>0</td>\n",
       "      <td>0.0</td>\n",
       "      <td>0</td>\n",
       "    </tr>\n",
       "  </tbody>\n",
       "</table>\n",
       "</div>"
      ],
      "text/plain": [
       "   Age  Sex  ChestPainType  RestingBP  Cholesterol  FastingBS  RestingECG  \\\n",
       "0   40    1              0        140          289          0           0   \n",
       "1   49    0              1        160          180          0           0   \n",
       "2   37    1              0        130          283          0           1   \n",
       "3   48    0              2        138          214          0           0   \n",
       "4   54    1              1        150          195          0           0   \n",
       "\n",
       "   MaxHR  ExerciseAngina  Oldpeak  ST_Slope  \n",
       "0    172               0      0.0         0  \n",
       "1    156               0      1.0         1  \n",
       "2     98               0      0.0         0  \n",
       "3    108               1      1.5         1  \n",
       "4    122               0      0.0         0  "
      ]
     },
     "execution_count": 25,
     "metadata": {},
     "output_type": "execute_result"
    }
   ],
   "source": [
    "X = df.drop('HeartDisease',axis='columns')\n",
    "X.head()"
   ]
  },
  {
   "cell_type": "code",
   "execution_count": 26,
   "id": "0dd39479",
   "metadata": {},
   "outputs": [
    {
     "data": {
      "text/plain": [
       "0    0\n",
       "1    1\n",
       "2    0\n",
       "3    1\n",
       "4    0\n",
       "Name: HeartDisease, dtype: int64"
      ]
     },
     "execution_count": 26,
     "metadata": {},
     "output_type": "execute_result"
    }
   ],
   "source": [
    "y=df['HeartDisease']\n",
    "y.head()\n"
   ]
  },
  {
   "cell_type": "markdown",
   "id": "e1644d96",
   "metadata": {},
   "source": [
    "<b>Scaling our data using Standard Scaler</b>"
   ]
  },
  {
   "cell_type": "code",
   "execution_count": 27,
   "id": "d0101238",
   "metadata": {},
   "outputs": [
    {
     "data": {
      "text/plain": [
       "array([[-1.43268734,  0.51513409, -1.70383434, ..., -0.8232726 ,\n",
       "        -0.83125986, -1.04605981],\n",
       "       [-0.47787471, -1.94124214, -0.53082985, ..., -0.8232726 ,\n",
       "         0.10838011,  0.60503808],\n",
       "       [-1.75095822,  0.51513409, -1.70383434, ..., -0.8232726 ,\n",
       "        -0.83125986, -1.04605981],\n",
       "       ...,\n",
       "       [ 0.37084763,  0.51513409,  0.64217465, ...,  1.2146645 ,\n",
       "         0.2963081 ,  0.60503808],\n",
       "       [ 0.37084763, -1.94124214, -1.70383434, ..., -0.8232726 ,\n",
       "        -0.83125986,  0.60503808],\n",
       "       [-1.64486793,  0.51513409, -0.53082985, ..., -0.8232726 ,\n",
       "        -0.83125986, -1.04605981]])"
      ]
     },
     "execution_count": 27,
     "metadata": {},
     "output_type": "execute_result"
    }
   ],
   "source": [
    "from sklearn.preprocessing import StandardScaler\n",
    "scaler = StandardScaler()\n",
    "X_scaled = scaler.fit_transform(X)\n",
    "X_scaled"
   ]
  },
  {
   "cell_type": "markdown",
   "id": "615690b1",
   "metadata": {},
   "source": [
    "<b>Creating Train and Test Data</b>"
   ]
  },
  {
   "cell_type": "code",
   "execution_count": 28,
   "id": "b0f72484",
   "metadata": {},
   "outputs": [],
   "source": [
    "from sklearn.model_selection import train_test_split\n",
    "X_train,X_test,y_train,y_test = train_test_split(X_scaled,y,test_size=0.2)"
   ]
  },
  {
   "cell_type": "code",
   "execution_count": 29,
   "id": "2e45da3a",
   "metadata": {},
   "outputs": [
    {
     "data": {
      "text/plain": [
       "(906, 11)"
      ]
     },
     "execution_count": 29,
     "metadata": {},
     "output_type": "execute_result"
    }
   ],
   "source": [
    "X.shape"
   ]
  },
  {
   "cell_type": "code",
   "execution_count": 30,
   "id": "2a728d68",
   "metadata": {},
   "outputs": [
    {
     "data": {
      "text/plain": [
       "(906, 11)"
      ]
     },
     "execution_count": 30,
     "metadata": {},
     "output_type": "execute_result"
    }
   ],
   "source": [
    "X_scaled.shape"
   ]
  },
  {
   "cell_type": "code",
   "execution_count": 31,
   "id": "34bb84ec",
   "metadata": {},
   "outputs": [
    {
     "data": {
      "text/plain": [
       "(724, 11)"
      ]
     },
     "execution_count": 31,
     "metadata": {},
     "output_type": "execute_result"
    }
   ],
   "source": [
    "X_train.shape"
   ]
  },
  {
   "cell_type": "markdown",
   "id": "a5aa8392",
   "metadata": {},
   "source": [
    "<b>Trying out different models using K-Fold Cross Validation without parameter tuning</b>"
   ]
  },
  {
   "cell_type": "code",
   "execution_count": 32,
   "id": "76451069",
   "metadata": {},
   "outputs": [],
   "source": [
    "import numpy as np\n",
    "from sklearn.linear_model import LogisticRegression\n",
    "from sklearn.svm import SVC\n",
    "from sklearn.tree import DecisionTreeClassifier\n",
    "from sklearn.ensemble import RandomForestClassifier\n",
    "from sklearn.naive_bayes import GaussianNB\n",
    "from sklearn.model_selection import cross_val_score"
   ]
  },
  {
   "cell_type": "code",
   "execution_count": 33,
   "id": "a5d396fd",
   "metadata": {},
   "outputs": [
    {
     "data": {
      "text/plain": [
       "0.7913666444053185"
      ]
     },
     "execution_count": 33,
     "metadata": {},
     "output_type": "execute_result"
    }
   ],
   "source": [
    "avg_lr_score = np.average(cross_val_score(LogisticRegression(), X_scaled,y,cv=5))\n",
    "avg_lr_score"
   ]
  },
  {
   "cell_type": "code",
   "execution_count": 34,
   "id": "e93ebc20",
   "metadata": {},
   "outputs": [
    {
     "data": {
      "text/plain": [
       "0.8178434824843664"
      ]
     },
     "execution_count": 34,
     "metadata": {},
     "output_type": "execute_result"
    }
   ],
   "source": [
    "avg_svm_score = np.average(cross_val_score(SVC(), X_scaled,y,cv=5))\n",
    "avg_svm_score"
   ]
  },
  {
   "cell_type": "code",
   "execution_count": 35,
   "id": "dfa90665",
   "metadata": {},
   "outputs": [
    {
     "data": {
      "text/plain": [
       "0.7527351101936738"
      ]
     },
     "execution_count": 35,
     "metadata": {},
     "output_type": "execute_result"
    }
   ],
   "source": [
    "avg_dt_score = np.average(cross_val_score(DecisionTreeClassifier(),X_scaled,y,cv=5))\n",
    "avg_dt_score"
   ]
  },
  {
   "cell_type": "code",
   "execution_count": 36,
   "id": "edd0e587",
   "metadata": {},
   "outputs": [
    {
     "data": {
      "text/plain": [
       "0.814522494080505"
      ]
     },
     "execution_count": 36,
     "metadata": {},
     "output_type": "execute_result"
    }
   ],
   "source": [
    "avg_rf_score = np.average(cross_val_score(RandomForestClassifier(),X_scaled,y,cv=5))\n",
    "avg_rf_score"
   ]
  },
  {
   "cell_type": "code",
   "execution_count": 37,
   "id": "04f26b15",
   "metadata": {},
   "outputs": [
    {
     "data": {
      "text/plain": [
       "0.8211887559953859"
      ]
     },
     "execution_count": 37,
     "metadata": {},
     "output_type": "execute_result"
    }
   ],
   "source": [
    "avg_nb_score = np.average(cross_val_score(GaussianNB(),X_scaled,y,cv=5))\n",
    "avg_nb_score"
   ]
  },
  {
   "cell_type": "markdown",
   "id": "ceb92009",
   "metadata": {},
   "source": [
    "For now Naive Bayessian model works best"
   ]
  },
  {
   "cell_type": "markdown",
   "id": "4e37c54d",
   "metadata": {},
   "source": [
    "<b>Hyper Parameter Tuning with GridSearchCV </b>"
   ]
  },
  {
   "cell_type": "code",
   "execution_count": 38,
   "id": "6c1d0a3c",
   "metadata": {},
   "outputs": [],
   "source": [
    "from sklearn.model_selection import GridSearchCV"
   ]
  },
  {
   "cell_type": "code",
   "execution_count": 39,
   "id": "e56d694c",
   "metadata": {},
   "outputs": [],
   "source": [
    "model_params = {\n",
    "    'svm':{\n",
    "        'model':SVC(),\n",
    "        'params':{\n",
    "            'C':[1,10,20,50,100],\n",
    "            'kernel':['rbf','linear']\n",
    "        }\n",
    "    },\n",
    "    'random forest':{\n",
    "        'model':RandomForestClassifier(),\n",
    "        'params':{\n",
    "            'n_estimators':[5,10,20,50,100]\n",
    "        }\n",
    "    },\n",
    "    \n",
    "    'logistic_regression':{\n",
    "        'model':LogisticRegression(),\n",
    "        'params':{\n",
    "            'C':[1,5,10,20,50,100]\n",
    "        }\n",
    "    },\n",
    "    \n",
    "    'decision_tree':{\n",
    "        'model':DecisionTreeClassifier(),\n",
    "        'params':{\n",
    "            'criterion':['gini','entropy']\n",
    "        }\n",
    "    },\n",
    "    \n",
    "    'gaussianNB':{\n",
    "        'model':GaussianNB(),\n",
    "        'params':{\n",
    "            \n",
    "        }\n",
    "    }\n",
    "    \n",
    "}"
   ]
  },
  {
   "cell_type": "code",
   "execution_count": 40,
   "id": "87825919",
   "metadata": {},
   "outputs": [],
   "source": [
    "scores = []\n",
    "for model_name, mp in model_params.items():\n",
    "    clf = GridSearchCV(mp['model'],mp['params'], cv = 5, return_train_score = False)\n",
    "    clf.fit(X_scaled,y)\n",
    "    scores.append({\n",
    "        'model':model_name,\n",
    "        'best_score':clf.best_score_,\n",
    "        'best_params': clf.best_params_\n",
    "    })    "
   ]
  },
  {
   "cell_type": "code",
   "execution_count": 41,
   "id": "9eca03d0",
   "metadata": {},
   "outputs": [
    {
     "data": {
      "text/html": [
       "<div>\n",
       "<style scoped>\n",
       "    .dataframe tbody tr th:only-of-type {\n",
       "        vertical-align: middle;\n",
       "    }\n",
       "\n",
       "    .dataframe tbody tr th {\n",
       "        vertical-align: top;\n",
       "    }\n",
       "\n",
       "    .dataframe thead th {\n",
       "        text-align: right;\n",
       "    }\n",
       "</style>\n",
       "<table border=\"1\" class=\"dataframe\">\n",
       "  <thead>\n",
       "    <tr style=\"text-align: right;\">\n",
       "      <th></th>\n",
       "      <th>model</th>\n",
       "      <th>best_score</th>\n",
       "      <th>best_params</th>\n",
       "    </tr>\n",
       "  </thead>\n",
       "  <tbody>\n",
       "    <tr>\n",
       "      <th>0</th>\n",
       "      <td>svm</td>\n",
       "      <td>0.817843</td>\n",
       "      <td>{'C': 1, 'kernel': 'rbf'}</td>\n",
       "    </tr>\n",
       "    <tr>\n",
       "      <th>1</th>\n",
       "      <td>random forest</td>\n",
       "      <td>0.832153</td>\n",
       "      <td>{'n_estimators': 100}</td>\n",
       "    </tr>\n",
       "    <tr>\n",
       "      <th>2</th>\n",
       "      <td>logistic_regression</td>\n",
       "      <td>0.791367</td>\n",
       "      <td>{'C': 1}</td>\n",
       "    </tr>\n",
       "    <tr>\n",
       "      <th>3</th>\n",
       "      <td>decision_tree</td>\n",
       "      <td>0.754963</td>\n",
       "      <td>{'criterion': 'gini'}</td>\n",
       "    </tr>\n",
       "    <tr>\n",
       "      <th>4</th>\n",
       "      <td>gaussianNB</td>\n",
       "      <td>0.821189</td>\n",
       "      <td>{}</td>\n",
       "    </tr>\n",
       "  </tbody>\n",
       "</table>\n",
       "</div>"
      ],
      "text/plain": [
       "                 model  best_score                best_params\n",
       "0                  svm    0.817843  {'C': 1, 'kernel': 'rbf'}\n",
       "1        random forest    0.832153      {'n_estimators': 100}\n",
       "2  logistic_regression    0.791367                   {'C': 1}\n",
       "3        decision_tree    0.754963      {'criterion': 'gini'}\n",
       "4           gaussianNB    0.821189                         {}"
      ]
     },
     "execution_count": 41,
     "metadata": {},
     "output_type": "execute_result"
    }
   ],
   "source": [
    "df = pd.DataFrame(data = scores, columns = ['model','best_score','best_params'])\n",
    "df"
   ]
  },
  {
   "cell_type": "markdown",
   "id": "f291ffe7",
   "metadata": {},
   "source": [
    "After parameter tuning best model is random forest with n_estimators = 100"
   ]
  }
 ],
 "metadata": {
  "kernelspec": {
   "display_name": "Python 3",
   "language": "python",
   "name": "python3"
  },
  "language_info": {
   "codemirror_mode": {
    "name": "ipython",
    "version": 3
   },
   "file_extension": ".py",
   "mimetype": "text/x-python",
   "name": "python",
   "nbconvert_exporter": "python",
   "pygments_lexer": "ipython3",
   "version": "3.8.8"
  }
 },
 "nbformat": 4,
 "nbformat_minor": 5
}
